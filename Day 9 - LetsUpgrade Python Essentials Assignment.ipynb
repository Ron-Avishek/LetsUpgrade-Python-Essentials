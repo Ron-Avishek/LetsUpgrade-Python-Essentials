{
 "cells": [
  {
   "cell_type": "markdown",
   "metadata": {},
   "source": [
    "# Question: 2"
   ]
  },
  {
   "cell_type": "code",
   "execution_count": 4,
   "metadata": {},
   "outputs": [],
   "source": [
    "def armstrong(a):\n",
    "    for armstrong_no in range(1, a+1):\n",
    "        order = len(str(armstrong_no))\n",
    "        sum = 0\n",
    "        test_no = armstrong_no\n",
    "        while test_no > 0:\n",
    "            digit = test_no % 10\n",
    "            sum += digit ** order\n",
    "            test_no //= 10\n",
    "        if armstrong_no == sum:\n",
    "            print(\"The armstrong number is: \", armstrong_no)"
   ]
  },
  {
   "cell_type": "code",
   "execution_count": 6,
   "metadata": {},
   "outputs": [
    {
     "name": "stdout",
     "output_type": "stream",
     "text": [
      "The armstrong number is:  1\n",
      "The armstrong number is:  2\n",
      "The armstrong number is:  3\n",
      "The armstrong number is:  4\n",
      "The armstrong number is:  5\n",
      "The armstrong number is:  6\n",
      "The armstrong number is:  7\n",
      "The armstrong number is:  8\n",
      "The armstrong number is:  9\n",
      "The armstrong number is:  153\n",
      "The armstrong number is:  370\n",
      "The armstrong number is:  371\n",
      "The armstrong number is:  407\n",
      "The armstrong number is:  1634\n",
      "The armstrong number is:  8208\n",
      "The armstrong number is:  9474\n"
     ]
    }
   ],
   "source": [
    "armstrong(10000)"
   ]
  },
  {
   "cell_type": "markdown",
   "metadata": {},
   "source": [
    "# Question: 1"
   ]
  },
  {
   "cell_type": "code",
   "execution_count": 9,
   "metadata": {},
   "outputs": [
    {
     "name": "stdout",
     "output_type": "stream",
     "text": [
      "Requirement already satisfied: pylint in c:\\users\\avish\\anaconda3\\lib\\site-packages (2.5.3)\n",
      "Requirement already satisfied: astroid<=2.5,>=2.4.0 in c:\\users\\avish\\anaconda3\\lib\\site-packages (from pylint) (2.4.2)\n",
      "Requirement already satisfied: colorama; sys_platform == \"win32\" in c:\\users\\avish\\anaconda3\\lib\\site-packages (from pylint) (0.4.3)\n",
      "Requirement already satisfied: isort<5,>=4.2.5 in c:\\users\\avish\\anaconda3\\lib\\site-packages (from pylint) (4.3.21)\n",
      "Requirement already satisfied: toml>=0.7.1 in c:\\users\\avish\\anaconda3\\lib\\site-packages (from pylint) (0.10.1)\n",
      "Requirement already satisfied: mccabe<0.7,>=0.6 in c:\\users\\avish\\anaconda3\\lib\\site-packages (from pylint) (0.6.1)\n",
      "Requirement already satisfied: lazy-object-proxy==1.4.* in c:\\users\\avish\\anaconda3\\lib\\site-packages (from astroid<=2.5,>=2.4.0->pylint) (1.4.3)\n",
      "Requirement already satisfied: wrapt~=1.11 in c:\\users\\avish\\anaconda3\\lib\\site-packages (from astroid<=2.5,>=2.4.0->pylint) (1.11.2)\n",
      "Requirement already satisfied: six~=1.12 in c:\\users\\avish\\anaconda3\\lib\\site-packages (from astroid<=2.5,>=2.4.0->pylint) (1.15.0)\n"
     ]
    }
   ],
   "source": [
    "! pip install pylint"
   ]
  },
  {
   "cell_type": "code",
   "execution_count": 11,
   "metadata": {},
   "outputs": [
    {
     "name": "stdout",
     "output_type": "stream",
     "text": [
      "Collecting unittest2\n",
      "  Downloading unittest2-1.1.0-py2.py3-none-any.whl (96 kB)\n",
      "Collecting traceback2\n",
      "  Downloading traceback2-1.4.0-py2.py3-none-any.whl (16 kB)\n",
      "Requirement already satisfied: six>=1.4 in c:\\users\\avish\\anaconda3\\lib\\site-packages (from unittest2) (1.15.0)\n",
      "Collecting argparse\n",
      "  Downloading argparse-1.4.0-py2.py3-none-any.whl (23 kB)\n",
      "Collecting linecache2\n",
      "  Downloading linecache2-1.0.0-py2.py3-none-any.whl (12 kB)\n",
      "Installing collected packages: linecache2, traceback2, argparse, unittest2\n",
      "Successfully installed argparse-1.4.0 linecache2-1.0.0 traceback2-1.4.0 unittest2-1.1.0\n"
     ]
    }
   ],
   "source": [
    "! pip install unittest2"
   ]
  },
  {
   "cell_type": "code",
   "execution_count": null,
   "metadata": {},
   "outputs": [],
   "source": []
  }
 ],
 "metadata": {
  "kernelspec": {
   "display_name": "Python 3",
   "language": "python",
   "name": "python3"
  },
  "language_info": {
   "codemirror_mode": {
    "name": "ipython",
    "version": 3
   },
   "file_extension": ".py",
   "mimetype": "text/x-python",
   "name": "python",
   "nbconvert_exporter": "python",
   "pygments_lexer": "ipython3",
   "version": "3.8.3"
  }
 },
 "nbformat": 4,
 "nbformat_minor": 4
}
