{
 "cells": [
  {
   "cell_type": "markdown",
   "metadata": {},
   "source": [
    "# Question 1:"
   ]
  },
  {
   "cell_type": "code",
   "execution_count": 21,
   "metadata": {},
   "outputs": [
    {
     "name": "stdout",
     "output_type": "stream",
     "text": [
      "1741725\n",
      "Wall time: 2.34 s\n"
     ]
    }
   ],
   "source": [
    "%%time\n",
    "for armstrong_no in range(1042000, 702648265 + 1):\n",
    "    order = len(str(armstrong_no))\n",
    "    sum = 0\n",
    "    test_no = armstrong_no\n",
    "    while test_no > 0:\n",
    "        digit = test_no % 10\n",
    "        sum += digit ** order\n",
    "        test_no //= 10\n",
    "    if armstrong_no == sum:\n",
    "        print(\"The armstrong number is: \", armstrong_no)\n",
    "        break"
   ]
  },
  {
   "cell_type": "code",
   "execution_count": 22,
   "metadata": {},
   "outputs": [
    {
     "name": "stdout",
     "output_type": "stream",
     "text": [
      "1741725\n",
      "4210818\n",
      "9800817\n",
      "9926315\n",
      "24678050\n",
      "24678051\n",
      "88593477\n",
      "146511208\n",
      "472335975\n",
      "534494836\n",
      "Wall time: 51min 23s\n"
     ]
    }
   ],
   "source": [
    "%%time\n",
    "for armstrong_no in range(1042000, 702648265 + 1):\n",
    "    order = len(str(armstrong_no))\n",
    "    sum = 0\n",
    "    test_no = armstrong_no\n",
    "    while test_no > 0:\n",
    "        digit = test_no % 10\n",
    "        sum += digit ** order\n",
    "        test_no //= 10\n",
    "    if armstrong_no == sum:\n",
    "        print(armstrong_no)"
   ]
  },
  {
   "cell_type": "code",
   "execution_count": null,
   "metadata": {},
   "outputs": [],
   "source": []
  }
 ],
 "metadata": {
  "kernelspec": {
   "display_name": "Python 3",
   "language": "python",
   "name": "python3"
  },
  "language_info": {
   "codemirror_mode": {
    "name": "ipython",
    "version": 3
   },
   "file_extension": ".py",
   "mimetype": "text/x-python",
   "name": "python",
   "nbconvert_exporter": "python",
   "pygments_lexer": "ipython3",
   "version": "3.8.3"
  }
 },
 "nbformat": 4,
 "nbformat_minor": 4
}
