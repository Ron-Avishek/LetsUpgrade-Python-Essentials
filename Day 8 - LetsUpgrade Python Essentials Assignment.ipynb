{
 "cells": [
  {
   "cell_type": "markdown",
   "metadata": {},
   "source": [
    "# Question 2:"
   ]
  },
  {
   "cell_type": "code",
   "execution_count": 3,
   "metadata": {},
   "outputs": [
    {
     "name": "stdout",
     "output_type": "stream",
     "text": [
      "Overwriting dairy.txt\n"
     ]
    }
   ],
   "source": [
    "%%writefile dairy.txt\n",
    "\n",
    "Yesterday was Friday. There was Lockdown to minimize the spread of COVID cases.\n",
    "Today is Saturday. The Lockdown is withdrawn for facilating NEET students to reach centre.\n",
    "Tomorrow is Sunday."
   ]
  },
  {
   "cell_type": "code",
   "execution_count": 4,
   "metadata": {},
   "outputs": [
    {
     "name": "stdout",
     "output_type": "stream",
     "text": [
      "not writable\n"
     ]
    }
   ],
   "source": [
    "file=open(\"dairy.txt\",\"r\")\n",
    "try :\n",
    "    file.write(\"In Sunday, NEET exam will be conducted.\")\n",
    "except Exception as e:\n",
    "    print(e)"
   ]
  },
  {
   "cell_type": "markdown",
   "metadata": {},
   "source": [
    "# Question 1:"
   ]
  },
  {
   "cell_type": "code",
   "execution_count": 18,
   "metadata": {},
   "outputs": [],
   "source": [
    "def Natural_Nos(arguement):\n",
    "    def ValueInput():\n",
    "        a=int(input(\"Enter starting value: \"))\n",
    "        b=int(input(\"Enter ending value: \"))\n",
    "        arguement(a,b)\n",
    "    return ValueInput"
   ]
  },
  {
   "cell_type": "code",
   "execution_count": 35,
   "metadata": {},
   "outputs": [],
   "source": [
    "@Natural_Nos\n",
    "def Sum_of_natural_nos(l,u):\n",
    "    j=0\n",
    "    k=0\n",
    "    for i in range(l,u+1):\n",
    "        j=j+i\n",
    "        k=k+1\n",
    "    print(\"Total numbers: \", k)\n",
    "    print(\"Sum of {} natural numbers: \".format(k), j)"
   ]
  },
  {
   "cell_type": "code",
   "execution_count": 36,
   "metadata": {},
   "outputs": [
    {
     "name": "stdout",
     "output_type": "stream",
     "text": [
      "Enter starting value: 3\n",
      "Enter ending value: 50\n",
      "Total numbers:  48\n",
      "Sum of 48 natural numbers:  1272\n"
     ]
    }
   ],
   "source": [
    "Sum_of_natural_nos()"
   ]
  },
  {
   "cell_type": "code",
   "execution_count": 37,
   "metadata": {},
   "outputs": [],
   "source": [
    "@Natural_Nos\n",
    "def Average_of_natural_nos(l,u):\n",
    "    j=0\n",
    "    k=0\n",
    "    for i in range(l,u+1):\n",
    "        j=j+i\n",
    "        k=k+1\n",
    "    print(\"Total numbers: \", k)\n",
    "    print(\"Average of {} natural numbers: \".format(k), j/k)"
   ]
  },
  {
   "cell_type": "code",
   "execution_count": 38,
   "metadata": {},
   "outputs": [
    {
     "name": "stdout",
     "output_type": "stream",
     "text": [
      "Enter starting value: 3\n",
      "Enter ending value: 50\n",
      "Total numbers:  48\n",
      "Average of 48 natural numbers:  26.5\n"
     ]
    }
   ],
   "source": [
    "Average_of_natural_nos()"
   ]
  },
  {
   "cell_type": "code",
   "execution_count": null,
   "metadata": {},
   "outputs": [],
   "source": []
  }
 ],
 "metadata": {
  "kernelspec": {
   "display_name": "Python 3",
   "language": "python",
   "name": "python3"
  },
  "language_info": {
   "codemirror_mode": {
    "name": "ipython",
    "version": 3
   },
   "file_extension": ".py",
   "mimetype": "text/x-python",
   "name": "python",
   "nbconvert_exporter": "python",
   "pygments_lexer": "ipython3",
   "version": "3.8.3"
  }
 },
 "nbformat": 4,
 "nbformat_minor": 4
}
