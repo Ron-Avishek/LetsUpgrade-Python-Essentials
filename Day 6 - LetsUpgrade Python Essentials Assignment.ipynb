{
 "cells": [
  {
   "cell_type": "markdown",
   "metadata": {},
   "source": [
    "# Question 1 :"
   ]
  },
  {
   "cell_type": "code",
   "execution_count": 14,
   "metadata": {},
   "outputs": [
    {
     "name": "stdout",
     "output_type": "stream",
     "text": [
      "Account owner: Avishek Guin\n",
      "Account balance: Rs.50000\n",
      "Deposit Accepted, your balance is Rs.75000\n",
      "Withdrawal Accepted, your balance is Rs.44500\n",
      "Withdrawal Accepted, your balance is Rs.4500\n",
      "Funds Unavailable!\n"
     ]
    }
   ],
   "source": [
    "class Savings_Bank_Account:\n",
    "    \n",
    "    def __init__(self, owner, balance):\n",
    "        self.owner = owner\n",
    "        self.balance = balance\n",
    "    \n",
    "    def __str__(self):\n",
    "        return 'Account owner: {owner}\\nAccount balance: Rs.{balance}'.format(owner=self.owner, balance=self.balance)\n",
    "        \n",
    "    def deposit(self, deposit_money):\n",
    "        self.balance += deposit_money\n",
    "        print('Deposit Accepted, your balance is Rs.{balance}'.format(balance=self.balance))\n",
    "    \n",
    "    def withdraw(self, withdraw_money):\n",
    "        if withdraw_money > self.balance:\n",
    "            print('Funds Unavailable!')\n",
    "        else:\n",
    "            self.balance -= withdraw_money\n",
    "            print('Withdrawal Accepted, your balance is Rs.{balance}'.format(balance=self.balance))\n",
    "            \n",
    "account_name = Savings_Bank_Account('Avishek Guin', 50000)\n",
    "print(account_name)\n",
    "\n",
    "account_name.deposit(25000)\n",
    "account_name.withdraw(30500)\n",
    "account_name.withdraw(40000)\n",
    "account_name.withdraw(20000)"
   ]
  },
  {
   "cell_type": "markdown",
   "metadata": {},
   "source": [
    "# Question 2 :"
   ]
  },
  {
   "cell_type": "code",
   "execution_count": 17,
   "metadata": {},
   "outputs": [
    {
     "name": "stdout",
     "output_type": "stream",
     "text": [
      "Volume of the cone is: 5309.29 cubic units\n",
      "Surface Area of the cone is: 1200.77 square units\n"
     ]
    }
   ],
   "source": [
    "import math as m\n",
    "class Cone:\n",
    "    def __init__(self, radius, height):\n",
    "        self.r = radius\n",
    "        self.h = height\n",
    "    def volume(self):\n",
    "        vol = (m.pi)*(self.r**2)*(self.h)\n",
    "        print(\"Volume of the cone is: {:.2f} cubic units\" .format(vol))\n",
    "    def surface_area(self):\n",
    "        sa_base = (m.pi)*(self.r**2)\n",
    "        sa_side = (m.pi)*(self.r)*(m.sqrt(self.r**2 + self.h**2))\n",
    "        sa_cone = sa_base + sa_side\n",
    "        print(\"Surface Area of the cone is: {:.2f} square units\" .format(sa_cone))\n",
    "\n",
    "c = Cone(13,10)\n",
    "c.volume()\n",
    "c.surface_area()"
   ]
  },
  {
   "cell_type": "code",
   "execution_count": null,
   "metadata": {},
   "outputs": [],
   "source": []
  },
  {
   "cell_type": "code",
   "execution_count": null,
   "metadata": {},
   "outputs": [],
   "source": []
  },
  {
   "cell_type": "code",
   "execution_count": null,
   "metadata": {},
   "outputs": [],
   "source": []
  },
  {
   "cell_type": "code",
   "execution_count": null,
   "metadata": {},
   "outputs": [],
   "source": [
    "\n"
   ]
  }
 ],
 "metadata": {
  "kernelspec": {
   "display_name": "Python 3",
   "language": "python",
   "name": "python3"
  },
  "language_info": {
   "codemirror_mode": {
    "name": "ipython",
    "version": 3
   },
   "file_extension": ".py",
   "mimetype": "text/x-python",
   "name": "python",
   "nbconvert_exporter": "python",
   "pygments_lexer": "ipython3",
   "version": "3.8.3"
  }
 },
 "nbformat": 4,
 "nbformat_minor": 4
}
